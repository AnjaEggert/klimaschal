{
 "cells": [
  {
   "cell_type": "markdown",
   "metadata": {},
   "source": [
    "# HowTo Stricke Dir Deinen Klimaschal"
   ]
  },
  {
   "cell_type": "markdown",
   "metadata": {},
   "source": [
    "Als Scientist for Future sind mir die Klimastreifen, also die “Warming Stripes” natürlich sehr vertraut. Der Klimatologen Ed Hawkins wurde dafür bekannt, die globale Erderhitzung mit einer Reihe farbiger, chronologisch angeordneter Streifen zu veranschaulichen.\n",
    "\n",
    "Ich habe mir meinen Klimaschal gestrickt. Ich habe dafür die Langzeitdaten der Lufttemperatur meiner Heimatstadt Rostock vom Deutschen Wetterdienst heruntergeladen und eine Strickanleitung berechnet. Die Daten des Deutschen Wetterdienstes sind nämlich frei verfügbar. Für die DWD-Station von Rostock-Warnemünde stehen stündliche Messungen der Lufttemperatur seit 1947 zur Verfügung! Damit kann Ende 2020 ein Schal aus 74 bunten Streifen gestrickt werden!!"
   ]
  },
  {
   "cell_type": "markdown",
   "metadata": {},
   "source": [
    "Üblicherweise werden die Klimastreifen als sogenannte Anomalien dargestellt. Man zieht von den Messdaten einen Mittelwert ab. Das Ergebnis sind dann negative (kälter als der Mittelwert) oder positive (wärmer als der Mittelwert) Werte. Die kälteren werden oft in Blautönen und die wärmeren in Rottönen dargestellt. Man muss selber entscheiden, über welchen Zeitraum die Daten gemittelt werden sollen. Der IPCC nimmt oft 1961-1990. Damit erhält man aber keine zentrierte Farbskala. Ich habe für den Schal darum den Mittelwert über den Gesamtzeitraum berechnet und abgezogen."
   ]
  },
  {
   "cell_type": "markdown",
   "metadata": {},
   "source": [
    "Grundkenntnisse in der freien Programmiersprache R reichen aus, um mit folgendem R-code die Strickanleitung zu erstellen. Mit dem code wird eine Datei mit dem Namen “Klimaschal.csv” mit den berechneten Farben abgespeichert."
   ]
  },
  {
   "cell_type": "markdown",
   "metadata": {},
   "source": [
    "Ich stelle hier die jährlichen Stationswerte der Lufttemperatur der DWD-Station Rostock-Warnemünde zur Verfügung. Ihr könnt aber auch die Daten eines anderen Standortes Eurer Wahl oder auch eine andere Messgröße, wie die Niederschlagshöhe, auf der Seite des DWD herunterladen: https://cdc.dwd.de/portal/. Die Daten liegen als komprimierte zip-Datei vor, die Ihr entpacken müsst. Im Ordner `data` liegen die Messwerte in der Datei vor, die z.B. heißt `data_TT_TU_MN009.csv`. Diese hatte ich in `Jahrestemperaturen.csv` umbenannt. "
   ]
  },
  {
   "cell_type": "code",
   "execution_count": 7,
   "metadata": {},
   "outputs": [],
   "source": [
    "####---Laden der R-Bibliotheken---####\n",
    "library(tidyverse)\n",
    "library(lubridate)\n",
    "library(RColorBrewer)"
   ]
  },
  {
   "cell_type": "code",
   "execution_count": 11,
   "metadata": {},
   "outputs": [],
   "source": [
    "####---Temperaturdaten (Jahresmittel) importieren---####\n",
    "temp <- read.csv(\"Jahrestemperaturen.csv\")"
   ]
  },
  {
   "cell_type": "code",
   "execution_count": 12,
   "metadata": {},
   "outputs": [],
   "source": [
    "####---create tibble---####\n",
    "temp <- tibble(temp) %>%\n",
    "   rename(Jahr = Zeitstempel) %>%\n",
    "   select(Jahr, Wert) %>% \n",
    "   filter(Jahr >= 1947)"
   ]
  },
  {
   "cell_type": "code",
   "execution_count": null,
   "metadata": {},
   "outputs": [],
   "source": [
    "temp"
   ]
  },
  {
   "cell_type": "code",
   "execution_count": 14,
   "metadata": {},
   "outputs": [],
   "source": [
    "####---Anomalien berechnen---####\n",
    "temp$Anom <- temp$Wert - mean(temp$Wert)"
   ]
  },
  {
   "cell_type": "code",
   "execution_count": 19,
   "metadata": {},
   "outputs": [],
   "source": [
    "####---Jahr im Datum-Format abspeichern---####\n",
    "temp$Datum <- paste(temp$Jahr, \"-01-01\", sep=\"\")\n",
    "temp$Datum <- as.Date(temp$Datum)"
   ]
  },
  {
   "cell_type": "code",
   "execution_count": null,
   "metadata": {},
   "outputs": [],
   "source": [
    "temp"
   ]
  },
  {
   "cell_type": "code",
   "execution_count": 21,
   "metadata": {},
   "outputs": [],
   "source": [
    "####---Farbkategorien berechnen---####\n",
    "#11 Farben (5 blaue, 5 rote und weiß)\n",
    "temp$Farbe <- 1\n",
    "range <- 2*max(abs(min(temp$Anom)), abs(max(temp$Anom)))\n",
    "\n",
    "for(i in 1:11){\n",
    "  for(j in 1:length(temp$Jahr)){\n",
    "    if(temp$Anom[j] >= (-0.5*range + (i-1) * range/11)){\n",
    "      temp$Farbe[j] <- i\n",
    "    }\n",
    "  }\n",
    "}\n",
    "\n",
    "temp <- temp %>%\n",
    "   mutate(Farbe = as.factor(Farbe))"
   ]
  },
  {
   "cell_type": "code",
   "execution_count": 22,
   "metadata": {},
   "outputs": [],
   "source": [
    "####---Daten abspeichern---####\n",
    "write.csv(temp, \"Klimaschal.csv\")"
   ]
  },
  {
   "cell_type": "code",
   "execution_count": null,
   "metadata": {},
   "outputs": [],
   "source": [
    "####---Farbskala erstellen---####\n",
    "col <- brewer.pal(11,\"RdBu\")"
   ]
  },
  {
   "cell_type": "code",
   "execution_count": null,
   "metadata": {},
   "outputs": [],
   "source": [
    "col"
   ]
  },
  {
   "cell_type": "code",
   "execution_count": null,
   "metadata": {},
   "outputs": [],
   "source": [
    "####---Abbildung erstellen---####\n",
    "temp %>%\n",
    "   ggplot(aes(x=Datum, y=1, fill=Farbe)) +\n",
    "   geom_tile() +\n",
    "   scale_x_date(date_breaks = \"1 year\", expand=c(0,0)) +\n",
    "   scale_y_continuous(expand=c(0,0)) +\n",
    "   scale_fill_manual(values = rev(col[sort(as.integer(\n",
    "                     levels(unique(temp$Farbe))))]),\n",
    "                     guide = FALSE) +\n",
    "   theme_minimal() +\n",
    "   theme(axis.text = element_blank(),\n",
    "         axis.line = element_blank(),\n",
    "         axis.title = element_blank(),\n",
    "         panel.grid.major=element_blank(),\n",
    "         panel.grid.minor=element_blank())"
   ]
  },
  {
   "cell_type": "code",
   "execution_count": null,
   "metadata": {},
   "outputs": [],
   "source": [
    "####---Abbildung speichern---####\n",
    "ggsave(filename = \"Klimaschal.png\", width = 20, height = 6, units = \"cm\")"
   ]
  },
  {
   "cell_type": "markdown",
   "metadata": {},
   "source": [
    "Das ist das Ergebnis als Bild. Nun müsst Ihr nur noch stricken."
   ]
  }
 ],
 "metadata": {
  "kernelspec": {
   "display_name": "R",
   "language": "R",
   "name": "ir"
  },
  "language_info": {
   "codemirror_mode": "r",
   "file_extension": ".r",
   "mimetype": "text/x-r-source",
   "name": "R",
   "pygments_lexer": "r",
   "version": "4.0.3"
  }
 },
 "nbformat": 4,
 "nbformat_minor": 4
}
